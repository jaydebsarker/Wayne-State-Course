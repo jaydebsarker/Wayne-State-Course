{
 "cells": [
  {
   "cell_type": "code",
   "execution_count": 1,
   "metadata": {},
   "outputs": [],
   "source": [
    "import numpy as np\n",
    "import matplotlib.pyplot as plt\n",
    "import pandas as pd\n",
    "import math"
   ]
  },
  {
   "cell_type": "markdown",
   "metadata": {},
   "source": [
    "## PREPROCESSING"
   ]
  },
  {
   "cell_type": "code",
   "execution_count": 2,
   "metadata": {},
   "outputs": [],
   "source": [
    "def readdata():\n",
    "    data = pd.read_csv(\"heart.csv\")\n",
    "    return data"
   ]
  },
  {
   "cell_type": "code",
   "execution_count": 3,
   "metadata": {},
   "outputs": [],
   "source": [
    "def normalize(X, mean, std):\n",
    "    return (X - mean) / std"
   ]
  },
  {
   "cell_type": "code",
   "execution_count": 4,
   "metadata": {},
   "outputs": [],
   "source": [
    "# Normalize features for L2 distance calculation\n",
    "def scaleFeature(df, col):\n",
    "    mean = df[col].mean()\n",
    "    std = df[col].std()\n",
    "    df[col] = df[col].apply(lambda x: normalize(x, mean, std))"
   ]
  },
  {
   "cell_type": "code",
   "execution_count": 5,
   "metadata": {},
   "outputs": [],
   "source": [
    "# Category features\n",
    "continuous_features  = ['age', 'chol', 'oldpeak', 'thalach', 'trestbps']\n",
    "categorical_features = ['ca', 'cp', 'restecg', 'slope', 'thal', 'sex', 'fbs', 'exang']"
   ]
  },
  {
   "cell_type": "markdown",
   "metadata": {},
   "source": [
    "## NAIVE BAYES"
   ]
  },
  {
   "cell_type": "code",
   "execution_count": 6,
   "metadata": {},
   "outputs": [],
   "source": [
    "# Load data and preprocess\n",
    "data = readdata()\n",
    "\n",
    "for col in continuous_features:\n",
    "    scaleFeature(data, col)"
   ]
  },
  {
   "cell_type": "code",
   "execution_count": 7,
   "metadata": {},
   "outputs": [
    {
     "name": "stdout",
     "output_type": "stream",
     "text": [
      "data shape (303, 14)\n",
      "train shape (242, 14)\n",
      "test shape (61, 15)\n"
     ]
    }
   ],
   "source": [
    "# separate into training and testing sets\n",
    "train=data.sample(frac=0.8,random_state=200) #random state is a seed value\n",
    "test=data.drop(train.index)\n",
    "\n",
    "# save predictions\n",
    "test['y'] = 0\n",
    "\n",
    "print('data shape ' + str(data.shape))\n",
    "print('train shape ' + str(train.shape))\n",
    "print('test shape ' + str(test.shape))"
   ]
  },
  {
   "cell_type": "code",
   "execution_count": 8,
   "metadata": {},
   "outputs": [],
   "source": [
    "# NB algorithm\n",
    "\n",
    "def calcCatProb(df, column, value):\n",
    "    denom = len(df[column])\n",
    "    num = len(df[df[column]==value])\n",
    "    prob = num/denom\n",
    "    return prob\n",
    "\n",
    "def calcGaussProb(df, column, value):\n",
    "    mean = df[column].mean()\n",
    "    std = df[column].std()\n",
    "    \n",
    "    var = std**2\n",
    "    denom = (2*math.pi*var)**.5\n",
    "    num = math.exp(-(value - mean)**2/(2*var))\n",
    "    prob = num/denom\n",
    "    \n",
    "    return prob\n",
    "\n",
    "def updatePred(df, row, totProb0, totProb1):\n",
    "    yidx = test.columns.get_loc('y')\n",
    "\n",
    "    if totProb1 > totProb0:\n",
    "        df.iat[row, yidx] = 1\n",
    "    else:\n",
    "        df.iat[row, yidx] = 0"
   ]
  },
  {
   "cell_type": "code",
   "execution_count": 9,
   "metadata": {
    "scrolled": false
   },
   "outputs": [],
   "source": [
    "def naiveBayes(X, y):\n",
    "\n",
    "    # segment the data by class and calculate the priors    \n",
    "    outcome0 = X[X['target']==0]\n",
    "    prior0 = len(outcome0.index) / len(X.index)\n",
    "\n",
    "    outcome1 = X[X['target']==1]\n",
    "    prior1 = len(outcome1.index) / len(X.index)\n",
    "    \n",
    "    for row in range(len(y.index)):\n",
    "        # initialize total probability to the priors\n",
    "        totProb0 = prior0\n",
    "        totProb1 = prior1\n",
    "        \n",
    "        # for each categorical column, calculate class probability\n",
    "        for column in categorical_features:\n",
    "            value = y.iloc[row][column]\n",
    "            prob0 = calcCatProb(outcome0, column, value)\n",
    "            prob1 = calcCatProb(outcome1, column, value)\n",
    "\n",
    "            totProb0 = totProb0 * prob0\n",
    "            totProb1 = totProb1 * prob1\n",
    "\n",
    "        # for each gaussian column, calculate class probability\n",
    "        for column in continuous_features:\n",
    "            value = y.iloc[row][column]\n",
    "            prob0 = calcGaussProb(outcome0, column, value)\n",
    "            prob1 = calcGaussProb(outcome1, column, value)\n",
    "\n",
    "            totProb0 = totProb0 * prob0\n",
    "            totProb1 = totProb1 * prob1\n",
    "\n",
    "        # update the prediction with the more likely class value\n",
    "        updatePred(y, row, totProb0, totProb1)"
   ]
  },
  {
   "cell_type": "code",
   "execution_count": 10,
   "metadata": {},
   "outputs": [],
   "source": [
    "naiveBayes(train, test)"
   ]
  },
  {
   "cell_type": "code",
   "execution_count": 11,
   "metadata": {
    "scrolled": true
   },
   "outputs": [
    {
     "name": "stdout",
     "output_type": "stream",
     "text": [
      "\n",
      "               Actual\n",
      "             1       0\n",
      "P       +--------+--------+\n",
      "r     1 | TP=20  | FP=6   |\n",
      "e       +--------+--------+\n",
      "d     0 | FN=8   | TN=27  |\n",
      ".       +--------+--------+\n",
      "\n",
      "Accuracy:   0.77049\n",
      "Precison:   0.76923\n",
      "Recall:     0.71429\n",
      "F-Measure:  0.74074\n"
     ]
    }
   ],
   "source": [
    "# Print results of Naive Bayes classifier\n",
    "\n",
    "def printConfusionMatrix(tp, fp, tn, fn):\n",
    "    print(\"\\n%15sActual\" % \"\")\n",
    "    print(\"%6s %7s %7s\" % (\"\", \"1\", \"0\"))\n",
    "    print(\"P%6s +--------+--------+\" % \"\")\n",
    "    print(\"r%6s | %-6s | %-6s |\" % (\"1\", 'TP='+str(tp), 'FP='+str(fp)))\n",
    "    print(\"e%6s +--------+--------+\" % \"\")\n",
    "    print(\"d%6s | %-6s | %-6s |\" % (\"0\", 'FN='+str(fn), 'TN='+str(tn)))\n",
    "    print(\".%6s +--------+--------+\\n\" % \"\")\n",
    "\n",
    "def getConfusionMatrix(df):\n",
    "    tp = len(df[(df['target']==1) & (df['y']==1)])\n",
    "    fp = len(df[(df['target']==0) & (df['y']==1)])\n",
    "    tn = len(df[(df['target']==0) & (df['y']==0)])\n",
    "    fn = len(df[(df['target']==1) & (df['y']==0)])\n",
    "\n",
    "    return tp, fp, tn, fn\n",
    "\n",
    "def getAccuracy(tp, fp, tn, fn):\n",
    "    return (tp+tn)/(tp+tn+fp+fn)\n",
    "\n",
    "def getPrecision(tp, fp, tn, fn):\n",
    "    return tp/(tp+fp)\n",
    "\n",
    "def getRecall(tp, fp, tn, fn):\n",
    "    return tp/(tp+fn)\n",
    "\n",
    "def getFmeasure(tp, fp, tn, fn):\n",
    "    recall = getRecall(tp, fp, tn, fn)\n",
    "    prec = getPrecision(tp, fp, tn, fn)\n",
    "    return 2*(recall*prec)/(recall+prec)\n",
    "\n",
    "tp, fp, tn, fn = getConfusionMatrix(test)\n",
    "printConfusionMatrix(tp, fp, tn, fn)\n",
    "\n",
    "print('Accuracy:  %8.5f' % getAccuracy(tp, fp, tn, fn))\n",
    "print('Precison:  %8.5f' % getPrecision(tp, fp, tn, fn))\n",
    "print('Recall:    %8.5f' % getRecall(tp, fp, tn, fn))\n",
    "print('F-Measure: %8.5f' % getFmeasure(tp, fp, tn, fn))"
   ]
  },
  {
   "cell_type": "code",
   "execution_count": null,
   "metadata": {},
   "outputs": [],
   "source": []
  }
 ],
 "metadata": {
  "kernelspec": {
   "display_name": "Python 3",
   "language": "python",
   "name": "python3"
  },
  "language_info": {
   "codemirror_mode": {
    "name": "ipython",
    "version": 3
   },
   "file_extension": ".py",
   "mimetype": "text/x-python",
   "name": "python",
   "nbconvert_exporter": "python",
   "pygments_lexer": "ipython3",
   "version": "3.8.5"
  }
 },
 "nbformat": 4,
 "nbformat_minor": 2
}
