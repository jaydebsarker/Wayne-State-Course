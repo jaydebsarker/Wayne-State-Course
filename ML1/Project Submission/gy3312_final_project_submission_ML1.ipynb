{
 "cells": [
  {
   "cell_type": "code",
   "execution_count": 18,
   "metadata": {},
   "outputs": [],
   "source": [
    "#CSC5825\n",
    "#Fall2020\n",
    "#Name: Jaydeb Sarker\n",
    "#ID: gy3312\n",
    "#credit card fraud detection"
   ]
  },
  {
   "cell_type": "code",
   "execution_count": 19,
   "metadata": {},
   "outputs": [],
   "source": [
    "\n",
    "#import classifiers and others\n",
    "from sklearn.metrics import roc_auc_score\n",
    "import matplotlib.pyplot as plt\n",
    "import seaborn as sns\n",
    "from mpl_toolkits.mplot3d import Axes3D\n",
    "\n",
    "import numpy as np\n",
    "import pandas as pd\n",
    "\n",
    "from sklearn.model_selection import train_test_split, cross_val_score, KFold\n",
    "from sklearn.utils import resample \n",
    "from sklearn.decomposition import PCA\n",
    "from sklearn.pipeline import Pipeline\n",
    "\n",
    "from sklearn.linear_model import LogisticRegression\n",
    "from sklearn.svm import SVC\n",
    "from sklearn.tree import DecisionTreeClassifier\n",
    "import collections\n",
    "\n",
    "from imblearn.pipeline import make_pipeline as imbalanced_make_pipeline\n",
    "from imblearn.over_sampling import SMOTE\n",
    "from imblearn.under_sampling import NearMiss\n",
    "\n",
    "from imblearn.metrics import classification_report_imbalanced\n",
    "\n",
    "from sklearn.metrics import precision_score, recall_score, f1_score, roc_auc_score, accuracy_score, classification_report\n",
    "from collections import Counter"
   ]
  },
  {
   "cell_type": "code",
   "execution_count": 20,
   "metadata": {},
   "outputs": [],
   "source": [
    "def read_data():\n",
    "    data=pd.read_csv('creditcard.csv')\n",
    "    return data\n",
    "\n",
    "data=read_data()"
   ]
  },
  {
   "cell_type": "code",
   "execution_count": 21,
   "metadata": {},
   "outputs": [
    {
     "name": "stdout",
     "output_type": "stream",
     "text": [
      "0    284315\n",
      "1       492\n",
      "Name: Class, dtype: int64\n"
     ]
    }
   ],
   "source": [
    "print(data[\"Class\"].value_counts())\n"
   ]
  },
  {
   "cell_type": "code",
   "execution_count": 22,
   "metadata": {},
   "outputs": [
    {
     "name": "stdout",
     "output_type": "stream",
     "text": [
      "The data without fraud:  99.827\n",
      "The data with fraud:      0.173\n"
     ]
    }
   ],
   "source": [
    "print('The data without fraud: ',round(data[\"Class\"].value_counts()[0]/len(data)*100,3))\n",
    "print('The data with fraud:     ',round(data[\"Class\"].value_counts()[1]/len(data)*100,3))"
   ]
  },
  {
   "cell_type": "code",
   "execution_count": 23,
   "metadata": {},
   "outputs": [
    {
     "data": {
      "text/plain": [
       "Index(['V1', 'V2', 'V3', 'V4', 'V5', 'V6', 'V7', 'V8', 'V9', 'V10', 'V11',\n",
       "       'V12', 'V13', 'V14', 'V15', 'V16', 'V17', 'V18', 'V19', 'V20', 'V21',\n",
       "       'V22', 'V23', 'V24', 'V25', 'V26', 'V27', 'V28', 'Class', 'PCATime',\n",
       "       'PCA amount'],\n",
       "      dtype='object')"
      ]
     },
     "execution_count": 23,
     "metadata": {},
     "output_type": "execute_result"
    }
   ],
   "source": [
    "##apply preprocessing\n",
    "columns= data[['Time', 'Amount']]\n",
    "pca = PCA()\n",
    "pca.fit(columns)\n",
    "X_PCA = pca.transform(columns)\n",
    "\n",
    "data['PCATime']=X_PCA[:,0]\n",
    "data['PCA amount']=X_PCA[:,1]\n",
    "\n",
    "data.drop(['Time', 'Amount'], axis=1, inplace=True)\n",
    "\n",
    "data.columns"
   ]
  },
  {
   "cell_type": "code",
   "execution_count": 24,
   "metadata": {},
   "outputs": [],
   "source": [
    "\n",
    "# (7:3) split for supervised learning\n",
    "X_train, X_test= train_test_split(data, test_size=0.3, random_state=7)"
   ]
  },
  {
   "cell_type": "code",
   "execution_count": 25,
   "metadata": {},
   "outputs": [
    {
     "name": "stdout",
     "output_type": "stream",
     "text": [
      "(199364, 31)\n"
     ]
    }
   ],
   "source": [
    "print(X_train.shape)\n"
   ]
  },
  {
   "cell_type": "code",
   "execution_count": 26,
   "metadata": {},
   "outputs": [
    {
     "name": "stdout",
     "output_type": "stream",
     "text": [
      "0    85288\n",
      "1      155\n",
      "Name: Class, dtype: int64\n"
     ]
    }
   ],
   "source": [
    "print(X_test['Class'].value_counts())\n",
    "\n",
    "#test data without upsampling\n",
    "X_test_t= X_test.drop([\"Class\"], axis=1)\n",
    "Y_test= X_test[\"Class\"]"
   ]
  },
  {
   "cell_type": "code",
   "execution_count": 27,
   "metadata": {},
   "outputs": [
    {
     "name": "stdout",
     "output_type": "stream",
     "text": [
      "(199027, 31)\n"
     ]
    },
    {
     "data": {
      "text/plain": [
       "1    199027\n",
       "0    199027\n",
       "Name: Class, dtype: int64"
      ]
     },
     "execution_count": 27,
     "metadata": {},
     "output_type": "execute_result"
    }
   ],
   "source": [
    "#apply upsampling to the trained data\n",
    "maj_class=X_train[X_train[\"Class\"]==0]\n",
    "min_class=X_train[X_train[\"Class\"]==1]\n",
    "\n",
    "\n",
    "resamp_minclass=resample(min_class,n_samples=199027,replace=True,random_state=42)\n",
    "print(resamp_minclass.shape)\n",
    "\n",
    "Xtrain_new= pd.concat([maj_class,resamp_minclass])\n",
    "Xtrain_new[\"Class\"].value_counts()"
   ]
  },
  {
   "cell_type": "code",
   "execution_count": 28,
   "metadata": {},
   "outputs": [
    {
     "name": "stdout",
     "output_type": "stream",
     "text": [
      "(398054, 30)\n"
     ]
    }
   ],
   "source": [
    "upsampling_X= Xtrain_new.drop([\"Class\"], axis=1)\n",
    "upsampling_y= Xtrain_new[\"Class\"]\n",
    "\n",
    "print(upsampling_X.shape)\n"
   ]
  },
  {
   "cell_type": "code",
   "execution_count": 29,
   "metadata": {},
   "outputs": [],
   "source": [
    "##apply supervised models\n",
    "from sklearn.naive_bayes import GaussianNB\n",
    "upsampling_pipe = []\n",
    "\n",
    "upsampling_pipe.append(('upsamp_LR', Pipeline([('samp_LR',LogisticRegression(max_iter=1000))])))\n",
    "\n",
    "upsampling_pipe.append(('upsamp_DCT', Pipeline([('DCT',DecisionTreeClassifier())])))\n",
    "\n",
    "upsampling_pipe.append(('upsamp_NB', Pipeline([('NB',GaussianNB())])))"
   ]
  },
  {
   "cell_type": "code",
   "execution_count": 30,
   "metadata": {},
   "outputs": [
    {
     "name": "stdout",
     "output_type": "stream",
     "text": [
      "upsamp_LR: 0.930981 (0.034118)\n",
      "upsamp_DCT: 0.999794 (0.000229)\n",
      "upsamp_NB: 0.862879 (0.127681)\n"
     ]
    }
   ],
   "source": [
    "#10 fold cross validation after upsampling\n",
    "\n",
    "upsamp_results = []\n",
    "names = []\n",
    "for name, model in upsampling_pipe:\n",
    "    kfold = KFold(n_splits=10, random_state=None, shuffle=False)\n",
    "    ups_cv_results = cross_val_score(model, upsampling_X, upsampling_y, cv=kfold)\n",
    "    upsamp_results.append(ups_cv_results)\n",
    "    names.append(name)\n",
    "    msg = \"%s: %f (%f)\" % (name, ups_cv_results.mean(), ups_cv_results.std())\n",
    "    print(msg)"
   ]
  },
  {
   "cell_type": "code",
   "execution_count": 53,
   "metadata": {},
   "outputs": [
    {
     "name": "stderr",
     "output_type": "stream",
     "text": [
      "/opt/anaconda/envs/tfgpu-3.6.8/lib/python3.6/site-packages/ipykernel_launcher.py:10: MatplotlibDeprecationWarning: savefig() got unexpected keyword argument \"papertype\" which is no longer supported as of 3.3 and will become an error two minor releases later\n",
      "  # Remove the CWD from sys.path while we load stuff.\n",
      "/opt/anaconda/envs/tfgpu-3.6.8/lib/python3.6/site-packages/ipykernel_launcher.py:10: MatplotlibDeprecationWarning: savefig() got unexpected keyword argument \"frameon\" which is no longer supported as of 3.3 and will become an error two minor releases later\n",
      "  # Remove the CWD from sys.path while we load stuff.\n"
     ]
    },
    {
     "data": {
      "image/png": "[encoded data removed]",
      "text/plain": [
       "<Figure size 360x252 with 1 Axes>"
      ]
     },
     "metadata": {
      "needs_background": "light"
     },
     "output_type": "display_data"
    }
   ],
   "source": [
    "# Algorithm comparison\n",
    "fig = plt.figure(figsize=(5,3.5))\n",
    "fig.suptitle('Model Comparison during training')\n",
    "ax = fig.add_subplot(111)\n",
    "plt.boxplot(upsamp_results)\n",
    "ax.set_xticklabels(names)\n",
    "fig.savefig(\"comparison.png\" , dpi=None, facecolor='w', edgecolor='w',\n",
    "        orientation='portrait', papertype=None, format=None,\n",
    "        transparent=False, bbox_inches=None, pad_inches=0.1,\n",
    "        frameon=None, metadata=None)\n",
    "plt.show()"
   ]
  },
  {
   "cell_type": "code",
   "execution_count": 37,
   "metadata": {},
   "outputs": [
    {
     "name": "stdout",
     "output_type": "stream",
     "text": [
      "Accuracy Score of LR is:  0.9451377268972528\n",
      "0.9740411736479291\n",
      "              precision    recall  f1-score   support\n",
      "\n",
      "           0       1.00      0.97      0.99     85288\n",
      "           1       0.06      0.92      0.11       155\n",
      "\n",
      "    accuracy                           0.97     85443\n",
      "   macro avg       0.53      0.95      0.55     85443\n",
      "weighted avg       1.00      0.97      0.99     85443\n",
      "\n"
     ]
    }
   ],
   "source": [
    "##apply logistic regression to the train data\n",
    "\n",
    "LR=LogisticRegression(max_iter=1000)\n",
    "                \n",
    "kF= KFold(n_splits=10, random_state=None, shuffle=False)\n",
    "LR.fit(upsampling_X, upsampling_y)\n",
    "LR_predictions=LR.predict(X_test_t)\n",
    "\n",
    "score=roc_auc_score(Y_test, LR_predictions)\n",
    "print(\"Accuracy Score of LR is: \", score)\n",
    "\n",
    "LR_predictions\n",
    "print(accuracy_score(Y_test,LR_predictions))\n",
    "\n",
    "from sklearn.metrics import classification_report\n",
    "print(classification_report(Y_test, LR_predictions))"
   ]
  },
  {
   "cell_type": "code",
   "execution_count": 38,
   "metadata": {},
   "outputs": [
    {
     "name": "stdout",
     "output_type": "stream",
     "text": [
      " Accuracy Score of DT is:  0.8804223866913168\n",
      "0.9991222218320986\n",
      "              precision    recall  f1-score   support\n",
      "\n",
      "           0       1.00      1.00      1.00     85288\n",
      "           1       0.76      0.76      0.76       155\n",
      "\n",
      "    accuracy                           1.00     85443\n",
      "   macro avg       0.88      0.88      0.88     85443\n",
      "weighted avg       1.00      1.00      1.00     85443\n",
      "\n"
     ]
    }
   ],
   "source": [
    "\n",
    "##Apply Decision Tree for train and test\n",
    "DT=DecisionTreeClassifier()\n",
    "                \n",
    "kF= KFold(n_splits=10, random_state=None, shuffle=False)\n",
    "DT.fit(upsampling_X, upsampling_y)\n",
    "DT_predictions=DT.predict(X_test_t)\n",
    "\n",
    "score=roc_auc_score(Y_test, DT_predictions)\n",
    "print(\" Accuracy Score of DT is: \", score)\n",
    "\n",
    " \n",
    "print(accuracy_score(Y_test, DT_predictions))\n",
    "\n",
    "from sklearn.metrics import classification_report\n",
    "print(classification_report(Y_test, DT_predictions))"
   ]
  },
  {
   "cell_type": "code",
   "execution_count": 39,
   "metadata": {},
   "outputs": [
    {
     "name": "stdout",
     "output_type": "stream",
     "text": [
      "Accuracy Score of NB is:  0.8922952516104826\n",
      "0.9906838477113398\n",
      "              precision    recall  f1-score   support\n",
      "\n",
      "           0       1.00      0.99      1.00     85288\n",
      "           1       0.14      0.79      0.24       155\n",
      "\n",
      "    accuracy                           0.99     85443\n",
      "   macro avg       0.57      0.89      0.62     85443\n",
      "weighted avg       1.00      0.99      0.99     85443\n",
      "\n"
     ]
    }
   ],
   "source": [
    "##apply Naive Bayes to the train data and test it\n",
    "\n",
    "NB=GaussianNB() \n",
    "                \n",
    "kF= KFold(n_splits=10, random_state=None, shuffle=False)\n",
    "NB.fit(upsampling_X, upsampling_y)\n",
    "NB_predictions=NB.predict(X_test_t)\n",
    "\n",
    "score=roc_auc_score(Y_test, NB_predictions)\n",
    "print(\"Accuracy Score of NB is: \", score)\n",
    "\n",
    " \n",
    "print(accuracy_score(Y_test, NB_predictions))\n",
    "\n",
    "from sklearn.metrics import classification_report\n",
    "print(classification_report(Y_test, NB_predictions))"
   ]
  },
  {
   "cell_type": "code",
   "execution_count": 40,
   "metadata": {},
   "outputs": [
    {
     "data": {
      "text/plain": [
       "' \\nValid transactions as our population\\nFraud transactions as sample\\nTwo tailed Z-test\\nLevel of significance 0.01\\nCorresponding critical value is 2.58\\n'"
      ]
     },
     "execution_count": 40,
     "metadata": {},
     "output_type": "execute_result"
    }
   ],
   "source": [
    "## Apply Unsupervised Learning Method Isolation Forest\n",
    "\n",
    "#Feature Selection using Z-test\n",
    "''' \n",
    "Valid transactions as our population\n",
    "Fraud transactions as sample\n",
    "Two tailed Z-test\n",
    "Level of significance 0.01\n",
    "Corresponding critical value is 2.58\n",
    "'''"
   ]
  },
  {
   "cell_type": "code",
   "execution_count": 41,
   "metadata": {},
   "outputs": [],
   "source": [
    "def ztest(feature):\n",
    "    \n",
    "    mean = normal[feature].mean()\n",
    "    std = fraud[feature].std()\n",
    "    zScore = (fraud[feature].mean() - mean) / (std/np.sqrt(sample_size))\n",
    "    \n",
    "    return zScore"
   ]
  },
  {
   "cell_type": "code",
   "execution_count": 42,
   "metadata": {},
   "outputs": [
    {
     "name": "stdout",
     "output_type": "stream",
     "text": [
      "V1  is statistically significant\n",
      "V2  is statistically significant\n",
      "V3  is statistically significant\n",
      "V4  is statistically significant\n",
      "V5  is statistically significant\n",
      "V6  is statistically significant\n",
      "V7  is statistically significant\n",
      "V9  is statistically significant\n",
      "V10  is statistically significant\n",
      "V11  is statistically significant\n",
      "V12  is statistically significant\n",
      "V14  is statistically significant\n",
      "V16  is statistically significant\n",
      "V17  is statistically significant\n",
      "V18  is statistically significant\n",
      "V19  is statistically significant\n",
      "V20  is statistically significant\n",
      "V21  is statistically significant\n",
      "V24  is statistically significant\n",
      "V27  is statistically significant\n",
      "V28  is statistically significant\n",
      "PCATime  is statistically significant\n",
      "PCA amount  is statistically significant\n"
     ]
    }
   ],
   "source": [
    "\n",
    "columns= data.drop('Class', axis=1).columns\n",
    "normal= data[data.Class==0]\n",
    "fraud= data[data.Class==1]\n",
    "sample_size=len(fraud)\n",
    "significant_features=[]\n",
    "cvalue=2.58 # it is ideal value\n",
    "\n",
    "\n",
    "for i in columns:\n",
    "    \n",
    "    z_value=ztest(i)\n",
    "    \n",
    "    if( abs(z_value) >= cvalue):    \n",
    "        print(i,\" is statistically significant\") #Reject Null hypothesis. i.e. H0\n",
    "        significant_features.append(i)"
   ]
  },
  {
   "cell_type": "code",
   "execution_count": 43,
   "metadata": {},
   "outputs": [
    {
     "name": "stdout",
     "output_type": "stream",
     "text": [
      "(284807, 24)\n"
     ]
    }
   ],
   "source": [
    "significant_features.append('Class')\n",
    "data= data[significant_features]\n",
    "print(data.shape)"
   ]
  },
  {
   "cell_type": "code",
   "execution_count": 44,
   "metadata": {},
   "outputs": [
    {
     "name": "stdout",
     "output_type": "stream",
     "text": [
      "0.0017304750013189597\n",
      "Fraud Cases: 492\n",
      "Valid Transactions: 284315\n"
     ]
    }
   ],
   "source": [
    "\n",
    "##verify fraud and non-fraud\n",
    "Fraud = data[data['Class'] == 1]\n",
    "Valid = data[data['Class'] == 0]\n",
    "\n",
    "outlier_fraction = len(Fraud)/float(len(Valid))\n",
    "print(outlier_fraction)\n",
    "\n",
    "print('Fraud Cases: {}'.format(len(data[data['Class'] == 1])))\n",
    "print('Valid Transactions: {}'.format(len(data[data['Class'] == 0])))"
   ]
  },
  {
   "cell_type": "code",
   "execution_count": 45,
   "metadata": {},
   "outputs": [
    {
     "name": "stdout",
     "output_type": "stream",
     "text": [
      "(284807, 23)\n",
      "(284807,)\n"
     ]
    }
   ],
   "source": [
    "columns = data.columns.tolist()\n",
    "\n",
    "# Filter the columns to remove data we do not want\n",
    "columns = [c for c in columns if c not in [\"Class\"]]\n",
    "\n",
    "# Store the variable we'll be predicting on\n",
    "target = \"Class\"\n",
    "\n",
    "X = data[columns]\n",
    "Y = data[target]\n",
    "\n",
    "# Print shapes\n",
    "print(X.shape)\n",
    "print(Y.shape)"
   ]
  },
  {
   "cell_type": "code",
   "execution_count": 47,
   "metadata": {},
   "outputs": [
    {
     "name": "stderr",
     "output_type": "stream",
     "text": [
      "/opt/anaconda/envs/tfgpu-3.6.8/lib/python3.6/site-packages/sklearn/ensemble/_iforest.py:255: FutureWarning: 'behaviour' is deprecated in 0.22 and will be removed in 0.24. You should not pass or set this parameter.\n",
      "  FutureWarning\n"
     ]
    },
    {
     "name": "stdout",
     "output_type": "stream",
     "text": [
      "Accuracy Score :\n",
      "0.9978336206624135\n",
      "Classification Report :\n",
      "              precision    recall  f1-score   support\n",
      "\n",
      "           0       1.00      1.00      1.00    284315\n",
      "           1       0.37      0.37      0.37       492\n",
      "\n",
      "    accuracy                           1.00    284807\n",
      "   macro avg       0.69      0.69      0.69    284807\n",
      "weighted avg       1.00      1.00      1.00    284807\n",
      "\n"
     ]
    }
   ],
   "source": [
    "\n",
    "## Applying Isolation Forest\n",
    "from sklearn.ensemble import IsolationForest\n",
    "state= 42\n",
    "IF = IsolationForest(n_estimators = 1050, max_features = 1.0, max_samples=1.0, \n",
    "                        behaviour=\"new\", bootstrap=False, random_state=22,\n",
    "                        contamination = outlier_fraction)\n",
    "#ISF = IsolationForest(random_state=state)\n",
    "IF.fit(X)\n",
    "\n",
    "scores_prediction = IF.decision_function(X)\n",
    "y_pred = IF.predict(X)\n",
    "\n",
    "\n",
    "#Reshape the prediction values \n",
    "y_pred[y_pred == 1] = 0\n",
    "y_pred[y_pred == -1] = 1\n",
    "n_errors = (y_pred != Y).sum()\n",
    "\n",
    "from sklearn.metrics import classification_report,accuracy_score\n",
    "print(\"Accuracy Score :\")\n",
    "print(accuracy_score(Y,y_pred))\n",
    "print(\"Classification Report :\")\n",
    "print(classification_report(Y,y_pred))"
   ]
  },
  {
   "cell_type": "code",
   "execution_count": null,
   "metadata": {},
   "outputs": [],
   "source": []
  }
 ],
 "metadata": {
  "kernelspec": {
   "display_name": "Python 3",
   "language": "python",
   "name": "python3"
  },
  "language_info": {
   "codemirror_mode": {
    "name": "ipython",
    "version": 3
   },
   "file_extension": ".py",
   "mimetype": "text/x-python",
   "name": "python",
   "nbconvert_exporter": "python",
   "pygments_lexer": "ipython3",
   "version": "3.6.8"
  }
 },
 "nbformat": 4,
 "nbformat_minor": 4
}
