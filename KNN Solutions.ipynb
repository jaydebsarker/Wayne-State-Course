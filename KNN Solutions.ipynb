{
 "cells": [
  {
   "cell_type": "code",
   "execution_count": 1,
   "metadata": {},
   "outputs": [],
   "source": [
    "import numpy as np\n",
    "import matplotlib.pyplot as plt\n",
    "import pandas as pd\n",
    "import math"
   ]
  },
  {
   "cell_type": "markdown",
   "metadata": {},
   "source": [
    "## PREPROCESSING"
   ]
  },
  {
   "cell_type": "code",
   "execution_count": 2,
   "metadata": {},
   "outputs": [],
   "source": [
    "def readdata():\n",
    "    data = pd.read_csv(\"heart.csv\")\n",
    "    return data"
   ]
  },
  {
   "cell_type": "code",
   "execution_count": 3,
   "metadata": {},
   "outputs": [],
   "source": [
    "def normalize(X, mean, std):\n",
    "    return (X - mean) / std"
   ]
  },
  {
   "cell_type": "code",
   "execution_count": 4,
   "metadata": {},
   "outputs": [],
   "source": [
    "# Normalize features for L2 distance calculation\n",
    "def scaleFeature(df, col):\n",
    "    mean = df[col].mean()\n",
    "    std = df[col].std()\n",
    "    df[col] = df[col].apply(lambda x: normalize(x, mean, std))"
   ]
  },
  {
   "cell_type": "code",
   "execution_count": 5,
   "metadata": {},
   "outputs": [],
   "source": [
    "# Category features\n",
    "continuous_features  = ['age', 'chol', 'oldpeak', 'thalach', 'trestbps']\n",
    "categorical_features = ['ca', 'cp', 'restecg', 'slope', 'thal', 'sex', 'fbs', 'exang']"
   ]
  },
  {
   "cell_type": "markdown",
   "metadata": {},
   "source": [
    "\n",
    "## KNN CLASSIFIER\n"
   ]
  },
  {
   "cell_type": "code",
   "execution_count": 6,
   "metadata": {},
   "outputs": [
    {
     "name": "stdout",
     "output_type": "stream",
     "text": [
      "data shape (303, 14)\n",
      "train shape (194, 14)\n",
      "validation shape (48, 15)\n",
      "test shape (61, 15)\n"
     ]
    }
   ],
   "source": [
    "# kNN Load data and preprocess\n",
    "\n",
    "# Load data and preprocess\n",
    "data = readdata()\n",
    "\n",
    "for col in continuous_features:\n",
    "    scaleFeature(data, col)\n",
    "\n",
    "# separate into training and testing sets\n",
    "train=data.sample(frac=0.8,random_state=200) #random state is a seed value\n",
    "test=data.drop(train.index)\n",
    "newtrain = train.sample(frac=0.8,random_state=200) #random state is a seed value\n",
    "validation = train.drop(newtrain.index)\n",
    "\n",
    "\n",
    "# save predictions\n",
    "validation['y'] = 0\n",
    "test['y'] = 0\n",
    "\n",
    "print('data shape ' + str(data.shape))\n",
    "print('train shape ' + str(newtrain.shape))\n",
    "print('validation shape ' + str(validation.shape))\n",
    "print('test shape ' + str(test.shape))"
   ]
  },
  {
   "cell_type": "code",
   "execution_count": 7,
   "metadata": {},
   "outputs": [],
   "source": [
    "# Calculate the L2 distance between the current row and a neighbor\n",
    "def getDistance(row1, row2):\n",
    "    columns = continuous_features\n",
    "    \n",
    "    squares = 0\n",
    "    for column in columns:\n",
    "        value1 = row1[column]\n",
    "        value2 = row2[column]\n",
    "    \n",
    "        square = (value1 - value2)**2\n",
    "        squares = squares + square\n",
    "\n",
    "    dist = math.sqrt(squares)\n",
    "    return dist\n",
    "\n",
    "# get the K closest neighbors\n",
    "def getNeighbors(X, y, curRow, k):\n",
    "    row1 = y.iloc[curRow]\n",
    "\n",
    "    for rowNum in range(len(X.index)):\n",
    "        row = X.iloc[rowNum]\n",
    "        dist = getDistance(row1, row)\n",
    "\n",
    "        if curRow != rowNum:\n",
    "            X.at[rowNum, 'dist'] = dist\n",
    "        else:\n",
    "            X.at[rowNum, 'dist'] = -1\n",
    "    \n",
    "    neighbors = X[X['dist']>=0].sort_values('dist', ascending=True).head(k)\n",
    "    return neighbors\n",
    "\n",
    "\n",
    "def knnClassify(df, curRow, neighbors):\n",
    "    class0 = len(neighbors[neighbors['target']==0].index)\n",
    "    class1 = len(neighbors[neighbors['target']==1].index)\n",
    "    yidx = test.columns.get_loc(\"y\")\n",
    "\n",
    "    # print(class0, class1)\n",
    "    index = df.iloc[rowNum].index\n",
    "    if class0 > class1:\n",
    "        df.iat[curRow, yidx] = 0\n",
    "    else:\n",
    "        df.iat[curRow, yidx] = 1"
   ]
  },
  {
   "cell_type": "code",
   "execution_count": 8,
   "metadata": {},
   "outputs": [],
   "source": [
    "def printConfusionMatrix(tp, fp, tn, fn):\n",
    "    print(\"\\n%15sActual\" % \"\")\n",
    "    print(\"%6s %7s %7s\" % (\"\", \"1\", \"0\"))\n",
    "    print(\"P%6s +--------+--------+\" % \"\")\n",
    "    print(\"r%6s | %-6s | %-6s |\" % (\"1\", 'TP='+str(tp), 'FP='+str(fp)))\n",
    "    print(\"e%6s +--------+--------+\" % \"\")\n",
    "    print(\"d%6s | %-6s | %-6s |\" % (\"0\", 'FN='+str(fn), 'TN='+str(tn)))\n",
    "    print(\".%6s +--------+--------+\\n\" % \"\")\n",
    "\n",
    "\n",
    "def getConfusionMatrix(df):\n",
    "    tp = len(df[(df['target']==1) & (df['y']==1)])\n",
    "    fp = len(df[(df['target']==0) & (df['y']==1)])\n",
    "    tn = len(df[(df['target']==0) & (df['y']==0)])\n",
    "    fn = len(df[(df['target']==1) & (df['y']==0)])\n",
    "\n",
    "    return tp, fp, tn, fn\n",
    "\n",
    "\n",
    "def getAccuracy(tp, fp, tn, fn):\n",
    "    return (tp+tn)/(tp+tn+fp+fn)\n",
    "\n",
    "def getPrecision(tp, fp, tn, fn):\n",
    "    return tp/(tp+fp)\n",
    "\n",
    "def getRecall(tp, fp, tn, fn):\n",
    "    return tp/(tp+fn)\n",
    "\n",
    "def getFmeasure(tp, fp, tn, fn):\n",
    "    recall = getRecall(tp, fp, tn, fn)\n",
    "    prec = getPrecision(tp, fp, tn, fn)\n",
    "    return 2*(recall*prec)/(recall+prec)"
   ]
  },
  {
   "cell_type": "code",
   "execution_count": 9,
   "metadata": {},
   "outputs": [
    {
     "name": "stdout",
     "output_type": "stream",
     "text": [
      "***********\n",
      "K value is  1\n",
      "\n",
      "               Actual\n",
      "             1       0\n",
      "P       +--------+--------+\n",
      "r     1 | TP=29  | FP=18  |\n",
      "e       +--------+--------+\n",
      "d     0 | FN=0   | TN=1   |\n",
      ".       +--------+--------+\n",
      "\n",
      "Accuracy:   0.62500\n",
      "Precison:   0.61702\n",
      "Recall:     1.00000\n",
      "F-Measure:  0.76316\n",
      "***********\n",
      "K value is  2\n",
      "\n",
      "               Actual\n",
      "             1       0\n",
      "P       +--------+--------+\n",
      "r     1 | TP=26  | FP=18  |\n",
      "e       +--------+--------+\n",
      "d     0 | FN=3   | TN=1   |\n",
      ".       +--------+--------+\n",
      "\n",
      "Accuracy:   0.56250\n",
      "Precison:   0.59091\n",
      "Recall:     0.89655\n",
      "F-Measure:  0.71233\n",
      "***********\n",
      "K value is  3\n",
      "\n",
      "               Actual\n",
      "             1       0\n",
      "P       +--------+--------+\n",
      "r     1 | TP=26  | FP=19  |\n",
      "e       +--------+--------+\n",
      "d     0 | FN=3   | TN=0   |\n",
      ".       +--------+--------+\n",
      "\n",
      "Accuracy:   0.54167\n",
      "Precison:   0.57778\n",
      "Recall:     0.89655\n",
      "F-Measure:  0.70270\n",
      "***********\n",
      "K value is  4\n",
      "\n",
      "               Actual\n",
      "             1       0\n",
      "P       +--------+--------+\n",
      "r     1 | TP=28  | FP=19  |\n",
      "e       +--------+--------+\n",
      "d     0 | FN=1   | TN=0   |\n",
      ".       +--------+--------+\n",
      "\n",
      "Accuracy:   0.58333\n",
      "Precison:   0.59574\n",
      "Recall:     0.96552\n",
      "F-Measure:  0.73684\n"
     ]
    }
   ],
   "source": [
    "# fine-tuning k value on validation set\n",
    "for k in range(1,5):\n",
    "    print('***********')\n",
    "    print('K value is  %d' % k)\n",
    "    # Get neighbors and predict class for each test case\n",
    "    for rowNum in range(len(validation.index)):\n",
    "        neighbors = getNeighbors(newtrain, validation, rowNum, k)\n",
    "        knnClassify(validation, rowNum, neighbors)\n",
    "    tp, fp, tn, fn = getConfusionMatrix(validation)\n",
    "    printConfusionMatrix(tp, fp, tn, fn)\n",
    "                \n",
    "    print('Accuracy:  %8.5f' % getAccuracy(tp, fp, tn, fn))\n",
    "    print('Precison:  %8.5f' % getPrecision(tp, fp, tn, fn))\n",
    "    print('Recall:    %8.5f' % getRecall(tp, fp, tn, fn))\n",
    "    print('F-Measure: %8.5f' % getFmeasure(tp, fp, tn, fn))         "
   ]
  },
  {
   "cell_type": "code",
   "execution_count": 10,
   "metadata": {},
   "outputs": [],
   "source": [
    "# best k\n",
    "k = 1"
   ]
  },
  {
   "cell_type": "code",
   "execution_count": 11,
   "metadata": {},
   "outputs": [
    {
     "name": "stdout",
     "output_type": "stream",
     "text": [
      "\n",
      "               Actual\n",
      "             1       0\n",
      "P       +--------+--------+\n",
      "r     1 | TP=25  | FP=32  |\n",
      "e       +--------+--------+\n",
      "d     0 | FN=3   | TN=1   |\n",
      ".       +--------+--------+\n",
      "\n",
      "Accuracy:   0.42623\n",
      "Precison:   0.43860\n",
      "Recall:     0.89286\n",
      "F-Measure:  0.58824\n"
     ]
    }
   ],
   "source": [
    "# testing\n",
    "for rowNum in range(len(test.index)):\n",
    "    neighbors = getNeighbors(newtrain, test, rowNum, k)\n",
    "    knnClassify(test, rowNum, neighbors)\n",
    "tp, fp, tn, fn = getConfusionMatrix(test)\n",
    "printConfusionMatrix(tp, fp, tn, fn)\n",
    "                \n",
    "print('Accuracy:  %8.5f' % getAccuracy(tp, fp, tn, fn))\n",
    "print('Precison:  %8.5f' % getPrecision(tp, fp, tn, fn))\n",
    "print('Recall:    %8.5f' % getRecall(tp, fp, tn, fn))\n",
    "print('F-Measure: %8.5f' % getFmeasure(tp, fp, tn, fn))     "
   ]
  },
  {
   "cell_type": "code",
   "execution_count": null,
   "metadata": {},
   "outputs": [],
   "source": []
  }
 ],
 "metadata": {
  "kernelspec": {
   "display_name": "Python 3",
   "language": "python",
   "name": "python3"
  },
  "language_info": {
   "codemirror_mode": {
    "name": "ipython",
    "version": 3
   },
   "file_extension": ".py",
   "mimetype": "text/x-python",
   "name": "python",
   "nbconvert_exporter": "python",
   "pygments_lexer": "ipython3",
   "version": "3.8.5"
  }
 },
 "nbformat": 4,
 "nbformat_minor": 2
}
